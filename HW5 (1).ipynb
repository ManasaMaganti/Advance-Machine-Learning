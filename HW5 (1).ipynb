{
  "cells": [
    {
      "cell_type": "markdown",
      "metadata": {
        "id": "p1sQ9BGHqBmZ"
      },
      "source": [
        "# HW 5 #\n",
        "### Total points: 80 ###"
      ]
    },
    {
      "cell_type": "markdown",
      "metadata": {
        "id": "a_ChjuHeAZP-"
      },
      "source": [
        "## Name(s) and EID(s):"
      ]
    },
    {
      "cell_type": "markdown",
      "metadata": {
        "id": "Y86kiHXJYHCy"
      },
      "source": [
        "If you prefer, you can work in groups of two. **Please note that only one student per team needs to submit the assignment but make sure to include both students' names and UT EIDs.**  \n",
        "\n",
        "For any question that requires a handwritten solution, you may upload scanned images of your solution in the notebook or attach them to the assignment . You may write your solution using markdown as well.\n",
        "\n",
        "Please make sure your code runs and the graphs and figures are displayed in your notebook and PDF before submitting."
      ]
    },
    {
      "cell_type": "markdown",
      "source": [
        "# Q1. Convolutional Neural Networks (20 points)\n",
        "Answer the following questions briefly (1 paragraph should suffice):\n",
        "\n",
        "## Part 1 (6 points)\n",
        "Why are skip connections useful in CNN architectures like ResNet? (*Hint: think about gradient propagation in very deep networks*)\n",
        "\n",
        "## Answer\n",
        "\n",
        "## Part 2 (7 points)\n",
        "How does batch normalization improve training in CNNs, and why is it generally used after a convolutional layer but before the activation function?\n",
        "\n",
        "## Answer\n",
        "\n",
        "## Part 3 (7 points)\n",
        "Explain how the concept of translation invariance is achieved in CNNs and why it is an important property for visual recognition tasks.\n",
        "\n",
        "## Answer"
      ],
      "metadata": {
        "id": "M88ZD52vrTV6"
      }
    },
    {
      "cell_type": "markdown",
      "source": [
        "# Q2. Contrastive Learning (30 points)\n",
        "\n",
        "### Part 1 (5 points)\n",
        "Consider the example we saw in the class w.r.t Contrastive Learning (CL). We had two Cat images (say $C_1$, $C_2$) and one Bicycle image($B_1$), which we used for CL. However, if we only had one Cat image($C_1$) and one Bicycle image($B_1$), can we still do Contrastive Learning? If no, why?\n",
        "\n",
        "If yes, how? (ie, what will be my reference sample, positive sample, and negative sample?)\n",
        "\n",
        "Ans:\n",
        "Yes, we can still do Contrastive Learning with just one Cat image (C1) and one Bicycle image (B1), but it depends on how we generate the positive and negative samples. In this case, we can use data augmentation techniques (like flipping, cropping, or changing the color slightly) to create a new version of the Cat image (C1'). The original Cat image (C1) becomes the reference sample, the augmented Cat image (C1') serves as the positive sample, since it's similar to (C1), and the Bicycle image (B1) acts as the negative sample, since it's different from (C1). This way, the model can learn to pull similar samples closer in the representation space and push dissimilar ones apart, even with a limited dataset.\n",
        "\n",
        "### Part 2 (5 points)\n",
        "We need labelled data for contrastive learning. True or False? Can you think of a real world example where contrastive learning is a better choice compared to the conventional training approach? (Caution: If you use ChatGPT to answer this question you might end up giving same example as other students)\n",
        "\n",
        "Ans:\n",
        " False, Contrastive learning does not require labeled data because it is a self-supervised learning technique. Instead of relying on explicit labels, it uses inherent relationships within the data (e.g., augmented versions of the same image as positives and different images as negatives) to learn meaningful representations.\n",
        "\n",
        "Contrastive learning can be particularly useful for building personalized learning systems, such as student performance prediction or recommendation systems for study materials.\n",
        "\n",
        "For example, consider a scenario where we have a dataset of student-written essays. Instead of labeled data specifying the quality of each essay (e.g., \"good\" or \"bad\"), we can use contrastive learning to learn meaningful representations of essays. Positive pairs can be created by augmenting the same essay (e.g., paraphrasing or slightly modifying it), while negative pairs can be formed by contrasting essays from different students. This method helps the model understand nuanced differences between essays without requiring explicit labels, making it ideal for large-scale, unlabeled datasets in educational contexts.\n",
        "\n",
        "### Part 3 (20 points)\n",
        "\n",
        "Let us now mimic contrastive learning on a toy example to get a feeling of how it helps learn better representations for the data samples (After all, the entire Deep Learning is, in someway, learning to represent the data accurately)\n",
        "\n",
        "We will pick the same example again. Consider three 32x32 images $C_1, C_2, B_1$. We use random values to fill the three images.\n",
        "\n",
        "**What's more important is to ensure that C1 is more similar to C2 than B1, for the algorithm to work!**\n",
        "\n",
        "Part 3.0 (3 points) Please initialize C1 and B1. C2 has been filled for you, which you can see, is just a slightly noisy version of C1."
      ],
      "metadata": {
        "id": "vy9Kbwlyl40a"
      }
    },
    {
      "cell_type": "code",
      "source": [
        "import torch\n",
        "import torch.nn as nn\n",
        "import torch.nn.functional as F\n",
        "import matplotlib.pyplot as plt\n",
        "from sklearn.manifold import TSNE\n",
        "import numpy as np\n",
        "import random\n",
        "import torchvision.transforms.functional as TF\n",
        "\n",
        "\n",
        "random_seed = 16\n",
        "\n",
        "random.seed(random_seed)\n",
        "torch.manual_seed(random_seed)\n",
        "torch.cuda.manual_seed(random_seed)\n",
        "torch.backends.cudnn.deterministic = True\n",
        "torch.backends.cudnn.benchmark = False\n",
        "np.random.seed(random_seed)\n",
        "\n",
        "# Define sample images for cats (C1, C2) and bicycle (B1)\n",
        "# Use torch randn to initialize C1 and B1\n",
        "\n",
        "#FILLME\n",
        "C1 = (torch.tensor([[0.8, 0.9, 0.7]]).repeat(32, 32, 1).permute(2, 0, 1) )* 1.2 # A \"Cat\" image with distinct values\n",
        "C2 = C1 + 0.5 * torch.randn(3, 32, 32)  # Cat image 2, same as C1 with slight noise\n",
        "\n",
        "#FILLME\n",
        "B1 = (torch.tensor([[-0.5, -0.4, -0.6]]).repeat(32, 32, 1).permute(2, 0, 1))*1.8  # A \"Bicycle\" image with different values\n"
      ],
      "metadata": {
        "collapsed": true,
        "id": "V3GkRzzAtaHH"
      },
      "execution_count": 7,
      "outputs": []
    },
    {
      "cell_type": "markdown",
      "source": [
        "We have provided you with an Encoder (SimpleEncoder) that generates vector representation for an input image. Note how the encoder uses Convolution to generate vector representation of an image.\n",
        "\n",
        "Part 3.1 (2 points) Please complete the forward pass of the Encoder module"
      ],
      "metadata": {
        "id": "dN1aGoHC0Oom"
      }
    },
    {
      "cell_type": "code",
      "source": [
        "class SimpleEncoder(nn.Module):\n",
        "    def __init__(self):\n",
        "        super(SimpleEncoder, self).__init__()\n",
        "        self.conv = nn.Conv2d(3, 16, kernel_size=3, stride=2, padding=1)\n",
        "        self.fc = nn.Linear(16 * 16 * 16, 128)\n",
        "\n",
        "    def forward(self, x):\n",
        "        #FILLME\n",
        "        x =  self.conv(x)\n",
        "        x = x.view(x.size(0), -1)\n",
        "        #FILLME\n",
        "        x =  x.view(x.size(0), -1)\n",
        "        return F.normalize(x, p=2, dim=1)\n",
        "\n",
        "# Function for contrastive loss as in previous example\n",
        "def contrastive_loss(anchor, positive, negatives, temperature=0.5):\n",
        "    pos_sim = F.cosine_similarity(anchor.unsqueeze(0), positive.unsqueeze(0))\n",
        "    pos_loss = -torch.log(torch.exp(pos_sim / temperature))\n",
        "    neg_loss = sum(-torch.log(1 - torch.exp(F.cosine_similarity(anchor.unsqueeze(0), neg.unsqueeze(0)) / temperature))\n",
        "                   for neg in negatives)\n",
        "    return pos_loss + neg_loss"
      ],
      "metadata": {
        "id": "9g8HgKA50NLk"
      },
      "execution_count": 8,
      "outputs": []
    },
    {
      "cell_type": "markdown",
      "source": [
        "Part 3.2 (5 points)\n",
        "Get embeddings for the images. Build the positive and negative pairs. Code for doing contrastive learning on these pairs is already given to you."
      ],
      "metadata": {
        "id": "eQgLO4wKfEWC"
      }
    },
    {
      "cell_type": "code",
      "source": [
        "# Instantiate encoder and generate initial embeddings\n",
        "encoder = SimpleEncoder()\n",
        "images = torch.stack([C1, C2, B1])  # Stack images into a batch\n",
        "\n",
        "#get initial_embeddings for the images using encoder\n",
        "#FILLME\n",
        "initial_embeddings = encoder(images).detach()\n",
        "# Train encoder to minimize contrastive loss (one simple update step as an example)\n",
        "optimizer = torch.optim.Adam(encoder.parameters(), lr=0.01)\n",
        "\n",
        "#run few passes of training (we don't want it to overfit given a single sample)\n",
        "for _ in range(1):\n",
        "  embeddings = encoder(images)\n",
        "  #FILLME\n",
        "  pos_pair = (embeddings[0], embeddings[1])  # C1 and C2 as positive pair\n",
        "  neg_pair1 = (embeddings[0], embeddings[2])  # C1 and B1 as negative pair\n",
        "  neg_pair2 = (embeddings[1], embeddings[2])  # C2 and B1 as negative pair\n",
        "\n",
        "  # Contrastive loss as before\n",
        "  loss1 = contrastive_loss(pos_pair[0], pos_pair[1], [neg_pair1[1]])\n",
        "  loss2 = contrastive_loss(pos_pair[1], pos_pair[0], [neg_pair2[1]])\n",
        "  total_loss = (loss1 + loss2) / 2\n",
        "\n",
        "  optimizer.zero_grad()\n",
        "  total_loss.backward()\n",
        "  optimizer.step()\n",
        "\n",
        "encoder.eval()\n",
        "with torch.no_grad():\n",
        "  trained_embeddings = encoder(images).detach()"
      ],
      "metadata": {
        "id": "-SsvLYmXfDlx"
      },
      "execution_count": 9,
      "outputs": []
    },
    {
      "cell_type": "markdown",
      "source": [
        "###Cosine Similarity between embeddings\n",
        "The cosine similarity between embeddings would change once you run the CL algorithm. Run the below cell to observe the cosine similarities and answer the question that follows."
      ],
      "metadata": {
        "id": "OvfzSh4ffm5u"
      }
    },
    {
      "cell_type": "code",
      "source": [
        "from torch.nn.functional import cosine_similarity\n",
        "\n",
        "# Function to compute and print cosine similarities\n",
        "def print_cosine_similarities(embeddings, stage=\"\"):\n",
        "    # Calculate cosine similarities\n",
        "    sim_C1_C2 = cosine_similarity(embeddings[0].unsqueeze(0), embeddings[1].unsqueeze(0)).item()\n",
        "    sim_C1_B1 = cosine_similarity(embeddings[0].unsqueeze(0), embeddings[2].unsqueeze(0)).item()\n",
        "    sim_C2_B1 = cosine_similarity(embeddings[1].unsqueeze(0), embeddings[2].unsqueeze(0)).item()\n",
        "\n",
        "    # Print similarities\n",
        "    print(f\"Cosine Similarities {stage}:\")\n",
        "    print(f\"Similarity between C1 and C2 (positive pair): {sim_C1_C2:.4f}\")\n",
        "    print(f\"Similarity between C1 and B1 (negative pair): {sim_C1_B1:.4f}\")\n",
        "    print(f\"Similarity between C2 and B1 (negative pair): {sim_C2_B1:.4f}\\n\")\n",
        "\n",
        "# Cosine similarities before training\n",
        "print_cosine_similarities(initial_embeddings, stage=\"Before Contrastive Learning\")\n",
        "\n",
        "# Cosine similarities after training\n",
        "print_cosine_similarities(trained_embeddings, stage=\"After Contrastive Learning\")"
      ],
      "metadata": {
        "id": "ZTDvY1YuxRCx",
        "colab": {
          "base_uri": "https://localhost:8080/"
        },
        "outputId": "816a5d25-6566-4071-d551-3da3f39c3014"
      },
      "execution_count": 10,
      "outputs": [
        {
          "output_type": "stream",
          "name": "stdout",
          "text": [
            "Cosine Similarities Before Contrastive Learning:\n",
            "Similarity between C1 and C2 (positive pair): 0.9091\n",
            "Similarity between C1 and B1 (negative pair): -0.9230\n",
            "Similarity between C2 and B1 (negative pair): -0.8393\n",
            "\n",
            "Cosine Similarities After Contrastive Learning:\n",
            "Similarity between C1 and C2 (positive pair): 0.9452\n",
            "Similarity between C1 and B1 (negative pair): -0.9643\n",
            "Similarity between C2 and B1 (negative pair): -0.9114\n",
            "\n"
          ]
        }
      ]
    },
    {
      "cell_type": "markdown",
      "source": [
        "Part 3.3(5 points) Comment on the cosine similarities before and after the contrastive learning."
      ],
      "metadata": {
        "id": "6jvAlTQIbR8M"
      }
    },
    {
      "cell_type": "markdown",
      "source": [
        "Before contrastive learning, the cosine similarities show that the positive pair (C1 and C2) already had a high similarity of 0.9091, indicating that the model was somewhat capable of recognizing their similarity. However, the negative pairs (C1 and B1, C2 and B1) had strong negative similarities (-0.9230 and -0.8393), suggesting decent separation but with room for improvement. After contrastive learning, the positive pair's similarity increased further to 0.9452, demonstrating enhanced alignment of similar data. At the same time, the negative pairs exhibited even stronger negative similarities (-0.9643 and -0.9114), indicating improved separation of dissimilar data. Overall, contrastive learning significantly strengthened the model's ability to distinguish between similar and dissimilar pairs, refining the representations."
      ],
      "metadata": {
        "id": "EeSordztzFF5"
      }
    },
    {
      "cell_type": "markdown",
      "source": [
        "### Plotting the embeddings\n",
        "To visualize the relative change in position before and after CL, we have provided code that uses PCA to plot the embeddings on a 2-D space. Run and generate the plot and then answer the question that follows."
      ],
      "metadata": {
        "id": "dCtZtR3Wf1jr"
      }
    },
    {
      "cell_type": "code",
      "source": [
        "from sklearn.decomposition import PCA\n",
        "# Function to plot embeddings using PCA\n",
        "def plot_embeddings(initial_embeddings, trained_embeddings, labels):\n",
        "    # Combine embeddings before and after CL\n",
        "    embeddings_combined = torch.cat([initial_embeddings, trained_embeddings], dim=0).cpu().numpy()\n",
        "\n",
        "    # Apply PCA\n",
        "    pca = PCA(n_components=2)\n",
        "    embeddings_2d = pca.fit_transform(embeddings_combined)\n",
        "\n",
        "    # Define markers and colors for before and after\n",
        "    markers = ['o', 's']  # Circle for 'Before', Square for 'After'\n",
        "    colors = ['red', 'red', 'blue']\n",
        "\n",
        "    plt.figure(figsize=(8, 6))\n",
        "    # Plot before contrastive learning (initial embeddings)\n",
        "    for i in range(3):\n",
        "        plt.scatter(embeddings_2d[i, 0], embeddings_2d[i, 1], label=f'{labels[i]} Before', color=colors[i], marker=markers[0], s=100)\n",
        "\n",
        "    # Plot after contrastive learning (trained embeddings)\n",
        "    for i in range(3, 6):\n",
        "        plt.scatter(embeddings_2d[i, 0], embeddings_2d[i, 1], label=f'{labels[i-3]} After', color=colors[i-3], marker=markers[1], s=100)\n",
        "\n",
        "    plt.title(\"Embedding Visualization: Before and After Contrastive Learning\")\n",
        "    plt.legend()\n",
        "    plt.show()\n",
        "\n",
        "# Labels for the images\n",
        "labels = [\"Cat C1\", \"Cat C2\", \"Bicycle B1\"]\n",
        "\n",
        "# Plot combined before and after embeddings\n",
        "plot_embeddings(initial_embeddings, trained_embeddings, labels)"
      ],
      "metadata": {
        "id": "9Kg2qYWCyjS5",
        "colab": {
          "base_uri": "https://localhost:8080/",
          "height": 545
        },
        "outputId": "cbc042a7-844f-48ea-c6f1-a9043ff0e743"
      },
      "execution_count": 11,
      "outputs": [
        {
          "output_type": "display_data",
          "data": {
            "text/plain": [
              "<Figure size 800x600 with 1 Axes>"
            ],
            "image/png": "[encoded data removed]"
          },
          "metadata": {}
        }
      ]
    },
    {
      "cell_type": "markdown",
      "source": [
        "Part 3.4 (5 points) Comment on the above chart. Do you see the points moving around? Do they make sense to you?"
      ],
      "metadata": {
        "id": "XLQlnzHfeMJx"
      }
    },
    {
      "cell_type": "markdown",
      "source": [
        "The chart visualizes the embeddings of \"Cat\" and \"Bicycle\" points before and after contrastive learning. Before contrastive learning, the points for the same category (e.g., Cat C1 and Cat C2) were relatively close, but not perfectly aligned, and dissimilar points (e.g., Cat and Bicycle) were somewhat separated. After contrastive learning, the embeddings for similar pairs (e.g., Cat C1 and Cat C2) moved closer together, while the embeddings for dissimilar pairs (e.g., Cat and Bicycle) moved farther apart. This movement aligns with the goal of contrastive learning, where similar items are pulled together and dissimilar items are pushed apart in the embedding space. The visualizations confirm that the learning process improved the clustering of similar categories and the separation of different ones, which makes sense given the purpose of contrastive learning.\n"
      ],
      "metadata": {
        "id": "VobE0Xql5WxN"
      }
    },
    {
      "cell_type": "markdown",
      "source": [],
      "metadata": {
        "id": "XAoDXOc75Wse"
      }
    },
    {
      "cell_type": "markdown",
      "source": [],
      "metadata": {
        "id": "yL5xBfrq5Use"
      }
    },
    {
      "cell_type": "code",
      "source": [],
      "metadata": {
        "id": "OIxsphuByzbe"
      },
      "execution_count": null,
      "outputs": []
    }
  ],
  "metadata": {
    "colab": {
      "provenance": []
    },
    "kernelspec": {
      "display_name": "Python 3",
      "name": "python3"
    },
    "language_info": {
      "name": "python"
    }
  },
  "nbformat": 4,
  "nbformat_minor": 0
}